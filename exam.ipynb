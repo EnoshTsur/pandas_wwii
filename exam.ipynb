{
 "cells": [
  {
   "cell_type": "code",
   "execution_count": 4,
   "id": "a451e81b-803e-48f9-85d9-d4e576c2bc6b",
   "metadata": {},
   "outputs": [],
   "source": [
    "import numpy as np\n",
    "import pandas as pd"
   ]
  },
  {
   "cell_type": "code",
   "execution_count": 19,
   "id": "8ddee2ae-472a-430f-acd7-d6f09a118fd8",
   "metadata": {},
   "outputs": [],
   "source": [
    "   dtypes = {\n",
    "        'Mission ID': 'Int64',\n",
    "        'Mission Date': str,  # Will convert to datetime later\n",
    "        'Theater': str,\n",
    "        'Country': str,\n",
    "        'Air Force': str,\n",
    "        'Unit ID': str,\n",
    "        'Aircraft Series': str,\n",
    "        'Callsign': str,\n",
    "        'Mission Type': str,\n",
    "        'Takeoff Base': str,\n",
    "        'Incendiary Devices Weight (Tons)': 'float64',\n",
    "        'Fragmentation Devices': str,\n",
    "        'Fragmentation Devices Type': str,\n",
    "        'Fragmentation Devices Weight (Pounds)': 'float64',\n",
    "        'Fragmentation Devices Weight (Tons)': 'float64',\n",
    "        'Total Weight (Pounds)': 'float64',\n",
    "        'Total Weight (Tons)': 'float64',\n",
    "        'Time Over Target': str,\n",
    "        'Bomb Damage Assessment': str,\n",
    "        'Source ID': 'Int64'\n",
    "    }"
   ]
  },
  {
   "cell_type": "code",
   "execution_count": 24,
   "id": "9fb586df-c215-4741-9995-b643db72a30e",
   "metadata": {},
   "outputs": [
    {
     "data": {
      "text/html": [
       "<div>\n",
       "<style scoped>\n",
       "    .dataframe tbody tr th:only-of-type {\n",
       "        vertical-align: middle;\n",
       "    }\n",
       "\n",
       "    .dataframe tbody tr th {\n",
       "        vertical-align: top;\n",
       "    }\n",
       "\n",
       "    .dataframe thead th {\n",
       "        text-align: right;\n",
       "    }\n",
       "</style>\n",
       "<table border=\"1\" class=\"dataframe\">\n",
       "  <thead>\n",
       "    <tr style=\"text-align: right;\">\n",
       "      <th></th>\n",
       "      <th>Mission ID</th>\n",
       "      <th>Mission Date</th>\n",
       "      <th>Theater of Operations</th>\n",
       "      <th>Country</th>\n",
       "      <th>Air Force</th>\n",
       "      <th>Unit ID</th>\n",
       "      <th>Aircraft Series</th>\n",
       "      <th>Callsign</th>\n",
       "      <th>Mission Type</th>\n",
       "      <th>Takeoff Base</th>\n",
       "      <th>...</th>\n",
       "      <th>Incendiary Devices Weight (Tons)</th>\n",
       "      <th>Fragmentation Devices</th>\n",
       "      <th>Fragmentation Devices Type</th>\n",
       "      <th>Fragmentation Devices Weight (Pounds)</th>\n",
       "      <th>Fragmentation Devices Weight (Tons)</th>\n",
       "      <th>Total Weight (Pounds)</th>\n",
       "      <th>Total Weight (Tons)</th>\n",
       "      <th>Time Over Target</th>\n",
       "      <th>Bomb Damage Assessment</th>\n",
       "      <th>Source ID</th>\n",
       "    </tr>\n",
       "  </thead>\n",
       "  <tbody>\n",
       "    <tr>\n",
       "      <th>0</th>\n",
       "      <td>1</td>\n",
       "      <td>1943-08-15</td>\n",
       "      <td>MTO</td>\n",
       "      <td>USA</td>\n",
       "      <td>12 AF</td>\n",
       "      <td>27 FBG/86 FBG</td>\n",
       "      <td>A36</td>\n",
       "      <td>NaN</td>\n",
       "      <td>NaN</td>\n",
       "      <td>PONTE OLIVO AIRFIELD</td>\n",
       "      <td>...</td>\n",
       "      <td>NaN</td>\n",
       "      <td>NaN</td>\n",
       "      <td>NaN</td>\n",
       "      <td>NaN</td>\n",
       "      <td>NaN</td>\n",
       "      <td>NaN</td>\n",
       "      <td>10.0</td>\n",
       "      <td>NaN</td>\n",
       "      <td>NaN</td>\n",
       "      <td>&lt;NA&gt;</td>\n",
       "    </tr>\n",
       "    <tr>\n",
       "      <th>1</th>\n",
       "      <td>2</td>\n",
       "      <td>1943-08-15</td>\n",
       "      <td>PTO</td>\n",
       "      <td>USA</td>\n",
       "      <td>5 AF</td>\n",
       "      <td>400 BS</td>\n",
       "      <td>B24</td>\n",
       "      <td>NaN</td>\n",
       "      <td>1</td>\n",
       "      <td>NaN</td>\n",
       "      <td>...</td>\n",
       "      <td>NaN</td>\n",
       "      <td>NaN</td>\n",
       "      <td>NaN</td>\n",
       "      <td>NaN</td>\n",
       "      <td>NaN</td>\n",
       "      <td>NaN</td>\n",
       "      <td>20.0</td>\n",
       "      <td>NaN</td>\n",
       "      <td>NaN</td>\n",
       "      <td>9366</td>\n",
       "    </tr>\n",
       "    <tr>\n",
       "      <th>2</th>\n",
       "      <td>3</td>\n",
       "      <td>1943-08-15</td>\n",
       "      <td>MTO</td>\n",
       "      <td>USA</td>\n",
       "      <td>12 AF</td>\n",
       "      <td>27 FBG/86 FBG</td>\n",
       "      <td>A36</td>\n",
       "      <td>NaN</td>\n",
       "      <td>NaN</td>\n",
       "      <td>PONTE OLIVO AIRFIELD</td>\n",
       "      <td>...</td>\n",
       "      <td>NaN</td>\n",
       "      <td>NaN</td>\n",
       "      <td>NaN</td>\n",
       "      <td>NaN</td>\n",
       "      <td>NaN</td>\n",
       "      <td>NaN</td>\n",
       "      <td>9.0</td>\n",
       "      <td>NaN</td>\n",
       "      <td>NaN</td>\n",
       "      <td>&lt;NA&gt;</td>\n",
       "    </tr>\n",
       "    <tr>\n",
       "      <th>3</th>\n",
       "      <td>4</td>\n",
       "      <td>1943-08-15</td>\n",
       "      <td>MTO</td>\n",
       "      <td>USA</td>\n",
       "      <td>12 AF</td>\n",
       "      <td>27 FBG/86 FBG</td>\n",
       "      <td>A36</td>\n",
       "      <td>NaN</td>\n",
       "      <td>NaN</td>\n",
       "      <td>PONTE OLIVO AIRFIELD</td>\n",
       "      <td>...</td>\n",
       "      <td>NaN</td>\n",
       "      <td>NaN</td>\n",
       "      <td>NaN</td>\n",
       "      <td>NaN</td>\n",
       "      <td>NaN</td>\n",
       "      <td>NaN</td>\n",
       "      <td>7.5</td>\n",
       "      <td>NaN</td>\n",
       "      <td>NaN</td>\n",
       "      <td>&lt;NA&gt;</td>\n",
       "    </tr>\n",
       "    <tr>\n",
       "      <th>4</th>\n",
       "      <td>5</td>\n",
       "      <td>1943-08-15</td>\n",
       "      <td>PTO</td>\n",
       "      <td>USA</td>\n",
       "      <td>5 AF</td>\n",
       "      <td>321 BS</td>\n",
       "      <td>B24</td>\n",
       "      <td>NaN</td>\n",
       "      <td>1</td>\n",
       "      <td>NaN</td>\n",
       "      <td>...</td>\n",
       "      <td>NaN</td>\n",
       "      <td>NaN</td>\n",
       "      <td>NaN</td>\n",
       "      <td>NaN</td>\n",
       "      <td>NaN</td>\n",
       "      <td>NaN</td>\n",
       "      <td>8.0</td>\n",
       "      <td>NaN</td>\n",
       "      <td>NaN</td>\n",
       "      <td>22585</td>\n",
       "    </tr>\n",
       "  </tbody>\n",
       "</table>\n",
       "<p>5 rows × 46 columns</p>\n",
       "</div>"
      ],
      "text/plain": [
       "   Mission ID Mission Date Theater of Operations Country Air Force  \\\n",
       "0           1   1943-08-15                   MTO     USA     12 AF   \n",
       "1           2   1943-08-15                   PTO     USA      5 AF   \n",
       "2           3   1943-08-15                   MTO     USA     12 AF   \n",
       "3           4   1943-08-15                   MTO     USA     12 AF   \n",
       "4           5   1943-08-15                   PTO     USA      5 AF   \n",
       "\n",
       "         Unit ID Aircraft Series Callsign Mission Type          Takeoff Base  \\\n",
       "0  27 FBG/86 FBG             A36      NaN          NaN  PONTE OLIVO AIRFIELD   \n",
       "1         400 BS             B24      NaN            1                   NaN   \n",
       "2  27 FBG/86 FBG             A36      NaN          NaN  PONTE OLIVO AIRFIELD   \n",
       "3  27 FBG/86 FBG             A36      NaN          NaN  PONTE OLIVO AIRFIELD   \n",
       "4         321 BS             B24      NaN            1                   NaN   \n",
       "\n",
       "   ... Incendiary Devices Weight (Tons) Fragmentation Devices  \\\n",
       "0  ...                              NaN                   NaN   \n",
       "1  ...                              NaN                   NaN   \n",
       "2  ...                              NaN                   NaN   \n",
       "3  ...                              NaN                   NaN   \n",
       "4  ...                              NaN                   NaN   \n",
       "\n",
       "   Fragmentation Devices Type Fragmentation Devices Weight (Pounds)  \\\n",
       "0                         NaN                                   NaN   \n",
       "1                         NaN                                   NaN   \n",
       "2                         NaN                                   NaN   \n",
       "3                         NaN                                   NaN   \n",
       "4                         NaN                                   NaN   \n",
       "\n",
       "  Fragmentation Devices Weight (Tons) Total Weight (Pounds)  \\\n",
       "0                                 NaN                   NaN   \n",
       "1                                 NaN                   NaN   \n",
       "2                                 NaN                   NaN   \n",
       "3                                 NaN                   NaN   \n",
       "4                                 NaN                   NaN   \n",
       "\n",
       "  Total Weight (Tons) Time Over Target Bomb Damage Assessment  Source ID  \n",
       "0                10.0              NaN                    NaN       <NA>  \n",
       "1                20.0              NaN                    NaN       9366  \n",
       "2                 9.0              NaN                    NaN       <NA>  \n",
       "3                 7.5              NaN                    NaN       <NA>  \n",
       "4                 8.0              NaN                    NaN      22585  \n",
       "\n",
       "[5 rows x 46 columns]"
      ]
     },
     "execution_count": 24,
     "metadata": {},
     "output_type": "execute_result"
    }
   ],
   "source": [
    "data = pd.read_csv('./operations.csv', dtype=dtypes, na_values=['nan', 'NaN', '', ' '], low_memory=False)\n",
    "data.head(5)"
   ]
  },
  {
   "cell_type": "code",
   "execution_count": 21,
   "id": "67411155-83a5-4ede-bb0b-807329a8bd34",
   "metadata": {},
   "outputs": [
    {
     "data": {
      "text/plain": [
       "0        1943-08-15\n",
       "1        1943-08-15\n",
       "2        1943-08-15\n",
       "3        1943-08-15\n",
       "4        1943-08-15\n",
       "            ...    \n",
       "178276   1945-02-16\n",
       "178277   1945-02-16\n",
       "178278   1945-02-16\n",
       "178279   1945-02-16\n",
       "178280   1945-02-16\n",
       "Name: Mission Date, Length: 178281, dtype: datetime64[ns]"
      ]
     },
     "execution_count": 21,
     "metadata": {},
     "output_type": "execute_result"
    }
   ],
   "source": [
    "data['Mission Date'] = pd.to_datetime(data['Mission Date'])\n",
    "data['Mission Date']"
   ]
  },
  {
   "cell_type": "code",
   "execution_count": 28,
   "id": "efaae39d-d2d5-4492-85fd-8840851e8f31",
   "metadata": {},
   "outputs": [
    {
     "data": {
      "text/html": [
       "<div>\n",
       "<style scoped>\n",
       "    .dataframe tbody tr th:only-of-type {\n",
       "        vertical-align: middle;\n",
       "    }\n",
       "\n",
       "    .dataframe tbody tr th {\n",
       "        vertical-align: top;\n",
       "    }\n",
       "\n",
       "    .dataframe thead th {\n",
       "        text-align: right;\n",
       "    }\n",
       "</style>\n",
       "<table border=\"1\" class=\"dataframe\">\n",
       "  <thead>\n",
       "    <tr style=\"text-align: right;\">\n",
       "      <th></th>\n",
       "      <th>Mission ID</th>\n",
       "      <th>Mission Date</th>\n",
       "      <th>Theater of Operations</th>\n",
       "      <th>Country</th>\n",
       "      <th>Air Force</th>\n",
       "      <th>Unit ID</th>\n",
       "      <th>Aircraft Series</th>\n",
       "      <th>Callsign</th>\n",
       "      <th>Mission Type</th>\n",
       "      <th>Takeoff Base</th>\n",
       "      <th>...</th>\n",
       "      <th>Incendiary Devices Weight (Tons)</th>\n",
       "      <th>Fragmentation Devices</th>\n",
       "      <th>Fragmentation Devices Type</th>\n",
       "      <th>Fragmentation Devices Weight (Pounds)</th>\n",
       "      <th>Fragmentation Devices Weight (Tons)</th>\n",
       "      <th>Total Weight (Pounds)</th>\n",
       "      <th>Total Weight (Tons)</th>\n",
       "      <th>Time Over Target</th>\n",
       "      <th>Bomb Damage Assessment</th>\n",
       "      <th>Source ID</th>\n",
       "    </tr>\n",
       "  </thead>\n",
       "  <tbody>\n",
       "    <tr>\n",
       "      <th>0</th>\n",
       "      <td>1</td>\n",
       "      <td>1943-08-15</td>\n",
       "      <td>MTO</td>\n",
       "      <td>USA</td>\n",
       "      <td>12 AF</td>\n",
       "      <td>27 FBG/86 FBG</td>\n",
       "      <td>A36</td>\n",
       "      <td>NaN</td>\n",
       "      <td>NaN</td>\n",
       "      <td>PONTE OLIVO AIRFIELD</td>\n",
       "      <td>...</td>\n",
       "      <td>NaN</td>\n",
       "      <td>NaN</td>\n",
       "      <td>NaN</td>\n",
       "      <td>NaN</td>\n",
       "      <td>NaN</td>\n",
       "      <td>NaN</td>\n",
       "      <td>10.0</td>\n",
       "      <td>NaN</td>\n",
       "      <td>NaN</td>\n",
       "      <td>&lt;NA&gt;</td>\n",
       "    </tr>\n",
       "    <tr>\n",
       "      <th>1</th>\n",
       "      <td>2</td>\n",
       "      <td>1943-08-15</td>\n",
       "      <td>PTO</td>\n",
       "      <td>USA</td>\n",
       "      <td>5 AF</td>\n",
       "      <td>400 BS</td>\n",
       "      <td>B24</td>\n",
       "      <td>NaN</td>\n",
       "      <td>1</td>\n",
       "      <td>NaN</td>\n",
       "      <td>...</td>\n",
       "      <td>NaN</td>\n",
       "      <td>NaN</td>\n",
       "      <td>NaN</td>\n",
       "      <td>NaN</td>\n",
       "      <td>NaN</td>\n",
       "      <td>NaN</td>\n",
       "      <td>20.0</td>\n",
       "      <td>NaN</td>\n",
       "      <td>NaN</td>\n",
       "      <td>9366</td>\n",
       "    </tr>\n",
       "  </tbody>\n",
       "</table>\n",
       "<p>2 rows × 46 columns</p>\n",
       "</div>"
      ],
      "text/plain": [
       "   Mission ID Mission Date Theater of Operations Country Air Force  \\\n",
       "0           1   1943-08-15                   MTO     USA     12 AF   \n",
       "1           2   1943-08-15                   PTO     USA      5 AF   \n",
       "\n",
       "         Unit ID Aircraft Series Callsign Mission Type          Takeoff Base  \\\n",
       "0  27 FBG/86 FBG             A36      NaN          NaN  PONTE OLIVO AIRFIELD   \n",
       "1         400 BS             B24      NaN            1                   NaN   \n",
       "\n",
       "   ... Incendiary Devices Weight (Tons) Fragmentation Devices  \\\n",
       "0  ...                              NaN                   NaN   \n",
       "1  ...                              NaN                   NaN   \n",
       "\n",
       "   Fragmentation Devices Type Fragmentation Devices Weight (Pounds)  \\\n",
       "0                         NaN                                   NaN   \n",
       "1                         NaN                                   NaN   \n",
       "\n",
       "  Fragmentation Devices Weight (Tons) Total Weight (Pounds)  \\\n",
       "0                                 NaN                   NaN   \n",
       "1                                 NaN                   NaN   \n",
       "\n",
       "  Total Weight (Tons) Time Over Target Bomb Damage Assessment  Source ID  \n",
       "0                10.0              NaN                    NaN       <NA>  \n",
       "1                20.0              NaN                    NaN       9366  \n",
       "\n",
       "[2 rows x 46 columns]"
      ]
     },
     "execution_count": 28,
     "metadata": {},
     "output_type": "execute_result"
    }
   ],
   "source": [
    "data.head(2)"
   ]
  },
  {
   "cell_type": "code",
   "execution_count": 31,
   "id": "801a84c4-72a8-4406-8d3a-e321db77a439",
   "metadata": {},
   "outputs": [
    {
     "data": {
      "text/plain": [
       "\"\\nCreate a DataFrame from the missions data where 'Aircraft Series' is in 'B17' or 'B24'.\\nExpected columns: 'Mission ID', 'Aircraft Series', 'Target Country'\\nYour code here:\\n\""
      ]
     },
     "execution_count": 31,
     "metadata": {},
     "output_type": "execute_result"
    }
   ],
   "source": [
    "# Exercise 1: Basic DataFrame Creation\n",
    "\"\"\"\n",
    "Create a DataFrame from the missions data where 'Aircraft Series' is in 'B17' or 'B24'.\n",
    "Expected columns: 'Mission ID', 'Aircraft Series', 'Target Country'\n",
    "Your code here:\n",
    "\"\"\"\n",
    "# USE isin"
   ]
  },
  {
   "cell_type": "code",
   "execution_count": 32,
   "id": "cfe18c85-6da2-43d0-b51e-bd31d330ff76",
   "metadata": {},
   "outputs": [
    {
     "data": {
      "text/plain": [
       "\"\\nFind all unique Target Cities where the Target Type contains the word 'AIRDROME'.\\nYour code here:\\n\""
      ]
     },
     "execution_count": 32,
     "metadata": {},
     "output_type": "execute_result"
    }
   ],
   "source": [
    "# Exercise 2: String Filtering\n",
    "\"\"\"\n",
    "Find all unique Target Cities where the Target Type contains the word 'AIRDROM\n",
    "E'.\n",
    "Your code here:\n",
    "\"\"\"\n",
    "# use str.contains, unique"
   ]
  },
  {
   "cell_type": "code",
   "execution_count": 41,
   "id": "709fe323-00c8-45f0-b92a-71585d55a346",
   "metadata": {},
   "outputs": [
    {
     "data": {
      "text/plain": [
       "'\\nCount the number of missions that were:\\n- In the ETO (European Theater of Operations)\\n- Used B17 aircraft\\n- Had an altitude greater than 200 (hundreds of feet)\\nYour code here:\\n'"
      ]
     },
     "execution_count": 41,
     "metadata": {},
     "output_type": "execute_result"
    }
   ],
   "source": [
    "\n",
    "# Exercise 3: Multiple Conditions\n",
    "\"\"\"\n",
    "Count the number of missions that were:\n",
    "- In the ETO (European Theater of Operations)\n",
    "- Used B17 aircraft\n",
    "- Had an altitude greater than 200 (hundreds of feet)\n",
    "Your code here:\n",
    "\"\"\"\n",
    "# Filter according to the conditions and use shape[0] in order to count rows"
   ]
  },
  {
   "cell_type": "code",
   "execution_count": 54,
   "id": "58afefbf-4f43-46a2-b287-46477ce395d0",
   "metadata": {},
   "outputs": [
    {
     "data": {
      "text/plain": [
       "'\\nCalculate the average Total Weight (Tons) grouped by Theater of Operations and Aircraft Series.\\n'"
      ]
     },
     "execution_count": 54,
     "metadata": {},
     "output_type": "execute_result"
    }
   ],
   "source": [
    "# Exercise 4: Grouping and Aggregation\n",
    "\"\"\"\n",
    "Calculate the average Total Weight (Tons) grouped by Theater of Operations and Aircraft Series.\n",
    "\"\"\"\n",
    "# use groupby with array of keys, then speciy a column name, use mean and sort values and choose asceding"
   ]
  },
  {
   "cell_type": "code",
   "execution_count": 56,
   "id": "eb01dd9e-0470-401f-951e-ec03163a0277",
   "metadata": {},
   "outputs": [
    {
     "data": {
      "text/plain": [
       "\"\\n1. Count total missions by grouping by Aircraft Series and size for counting the results\\n\\n2. Count missions with missing Bomb Damage Assessment by filtering where Bomb Damage Assesssment\\nisna() and group by Aircraft Series and size for counting the results\\n\\n3. Create a new data frame with pd.DataFrame containing 'Total Missions' with the results of the\\ntotal missions, and the same for missing missions\\n\\n4. Calculate percentage of total missions with missing assessments in a new column ['Missing Precentage'] \\ndf['Mission Assessments'] / df['Total Missions'] * 100\\n\\n5. sort_value (df.sort_values) according to 'Missing Precentage', ascending=False\\nYour code here:\\n\""
      ]
     },
     "execution_count": 56,
     "metadata": {},
     "output_type": "execute_result"
    }
   ],
   "source": [
    "# Exercise 5: Missing Value Analysis\n",
    "\"\"\"\n",
    "1. Count total missions by grouping by Aircraft Series and size for counting the results\n",
    "\n",
    "2. Count missions with missing Bomb Damage Assessment by filtering where Bomb Damage Assesssment\n",
    "isna() and group by Aircraft Series and size for counting the results\n",
    "\n",
    "3. Create a new data frame with pd.DataFrame containing 'Total Missions' with the results of the\n",
    "total missions, and the same for missing missions\n",
    "\n",
    "4. Calculate percentage of total missions with missing assessments in a new column ['Missing Precentage'] \n",
    "df['Mission Assessments'] / df['Total Missions'] * 100\n",
    "\n",
    "5. sort_value (df.sort_values) according to 'Missing Precentage', ascending=False\n",
    "Your code here:\n",
    "\"\"\""
   ]
  },
  {
   "cell_type": "code",
   "execution_count": 59,
   "id": "86be45d5-22fe-4267-a251-f817cd999c8f",
   "metadata": {},
   "outputs": [
    {
     "data": {
      "text/plain": [
       "\"\\nCreate a summary DataFrame showing for each Mission Date:\\n1. create a new variable named summery which is assign to grouping by 'Mission Date'\\nand preform an aggregate with agg:\\n{\\n    'Mission ID': 'count',\\n    'Altitude (Hundreds of Feet)': 'mean',\\n    'Total Weight (Tons)': 'sum'\\n}\\n2. rename column 'Mission ID' to 'Mission Count' using rename(columns={'Mission ID': 'Mission Count'})\\nkeep in mind - rename is immutable operation, it mean that you have to reassign.\\n\\n3. Filter summery only include dates with more than 5 missions.\\nYour code here:\\n\""
      ]
     },
     "execution_count": 59,
     "metadata": {},
     "output_type": "execute_result"
    }
   ],
   "source": [
    "# Exercise 6: Time Series Operation\n",
    "\"\"\"\n",
    "Create a summary DataFrame showing for each Mission Date:\n",
    "1. create a new variable named summery which is assign to grouping by 'Mission Date'\n",
    "and preform an aggregate with agg:\n",
    "{\n",
    "    'Mission ID': 'count',\n",
    "    'Altitude (Hundreds of Feet)': 'mean',\n",
    "    'Total Weight (Tons)': 'sum'\n",
    "}\n",
    "2. rename column 'Mission ID' to 'Mission Count' using rename(columns={'Mission ID': 'Mission Count'})\n",
    "keep in mind - rename is immutable operation, it mean that you have to reassign.\n",
    "\n",
    "3. Filter summery only include dates with more than 5 missions.\n",
    "Your code here:\n",
    "\"\"\""
   ]
  },
  {
   "cell_type": "code",
   "execution_count": 67,
   "id": "397a9389-a695-4322-9b2a-5ecef64be467",
   "metadata": {},
   "outputs": [
    {
     "data": {
      "text/plain": [
       "\"\\nCreate a new column 'Mission Efficiency' calculated as:\\n(Total Weight (Tons) * Aircraft Returned) / (Airborne Aircraft + 1)\\nHandle missing values by filling with 0.\\nYour code here:\\n\""
      ]
     },
     "execution_count": 67,
     "metadata": {},
     "output_type": "execute_result"
    }
   ],
   "source": [
    "# Exercise 7: Vectorized Calculations\n",
    "\"\"\"\n",
    "Create a new column 'Mission Efficiency' calculated as:\n",
    "(Total Weight (Tons) * Aircraft Returned) / (Airborne Aircraft + 1)\n",
    "Handle missing values by filling with 0.\n",
    "Your code here:\n",
    "\"\"\""
   ]
  },
  {
   "cell_type": "code",
   "execution_count": 71,
   "id": "2f1d034e-12c8-4a1b-bafa-5b21eba815a6",
   "metadata": {},
   "outputs": [
    {
     "data": {
      "text/plain": [
       "\"\\nFor each country that was targeted:\\n1. create a new variable named country_stats which is assign to grouping by 'Target Country'\\nand preform an aggregate with agg:\\n{\\n    'Target City': 'nunique',\\n    'Total Weight (Tons)': 'sum',\\n    'Altitude (Hundreds of Feet)': 'mean'\\n}\\n2. rename column 'Target City' to 'Cities Targeted' using rename(columns={'Target City': 'Cities Targeted'})\\nkeep in mind - rename is immutable operation, it mean that you have to reassign.\\n3. filter country-stats including only Cities Targeted greater than 2\\nYour code here:\\n\""
      ]
     },
     "execution_count": 71,
     "metadata": {},
     "output_type": "execute_result"
    }
   ],
   "source": [
    "# Exercise 8: Geographic Analysis\n",
    "\"\"\"\n",
    "For each country that was targeted:\n",
    "1. create a new variable named country_stats which is assign to grouping by 'Target Country'\n",
    "and preform an aggregate with agg:\n",
    "{\n",
    "    'Target City': 'nunique',\n",
    "    'Total Weight (Tons)': 'sum',\n",
    "    'Altitude (Hundreds of Feet)': 'mean'\n",
    "}\n",
    "2. rename column 'Target City' to 'Cities Targeted' using rename(columns={'Target City': 'Cities Targeted'})\n",
    "keep in mind - rename is immutable operation, it mean that you have to reassign.\n",
    "3. filter country-stats including only Cities Targeted greater than 2\n",
    "Your code here:\n",
    "\"\"\""
   ]
  },
  {
   "cell_type": "code",
   "execution_count": 77,
   "id": "49045fb5-6e1c-4b08-a6d8-44efc7bff3f2",
   "metadata": {},
   "outputs": [
    {
     "data": {
      "text/plain": [
       "\"\\nFor each Mission Date:\\n1. create a new variable named daily_stats which is assign to grouping by 'Mission Date'\\nand preform an aggregate with agg:\\n{\\n    'Target Type': 'nunique',\\n    'Mission ID': 'count'\\n}\\n2. Create a new Column named 'Target Ratio' which is equal to daily_stats['Target Type'] / daily_stats['Mission ID']\\n3. Create a new variable named above_avg assign to filtering daily_stats where target ration column is greater than\\nthe mean of the target ration column.\\nYour code here:\\n\""
      ]
     },
     "execution_count": 77,
     "metadata": {},
     "output_type": "execute_result"
    }
   ],
   "source": [
    "# Exercise 10: Time-based Target Distribution\n",
    "\"\"\"\n",
    "For each Mission Date:\n",
    "1. create a new variable named daily_stats which is assign to grouping by 'Mission Date'\n",
    "and preform an aggregate with agg:\n",
    "{\n",
    "    'Target Type': 'nunique',\n",
    "    'Mission ID': 'count'\n",
    "}\n",
    "2. Create a new Column named 'Target Ratio' which is equal to daily_stats['Target Type'] / daily_stats['Mission ID']\n",
    "3. Create a new variable named above_avg assign to filtering daily_stats where target ration column is greater than\n",
    "the mean of the target ration column.\n",
    "Your code here:\n",
    "\"\"\""
   ]
  },
  {
   "cell_type": "code",
   "execution_count": null,
   "id": "fcdef49c-51b8-49cf-88b4-9d6ae6cf66ce",
   "metadata": {},
   "outputs": [],
   "source": []
  }
 ],
 "metadata": {
  "kernelspec": {
   "display_name": "Python 3 (ipykernel)",
   "language": "python",
   "name": "python3"
  },
  "language_info": {
   "codemirror_mode": {
    "name": "ipython",
    "version": 3
   },
   "file_extension": ".py",
   "mimetype": "text/x-python",
   "name": "python",
   "nbconvert_exporter": "python",
   "pygments_lexer": "ipython3",
   "version": "3.11.6"
  }
 },
 "nbformat": 4,
 "nbformat_minor": 5
}
